{
 "cells": [
  {
   "cell_type": "code",
   "execution_count": 1,
   "id": "6ad0b5ce-e73b-4b12-a012-b4fe4f21c374",
   "metadata": {},
   "outputs": [],
   "source": [
    "import tensorflow as tf\n",
    "import cv2\n",
    "import numpy as np\n",
    "from PIL import Image\n",
    "from flask import request, jsonify, Flask\n",
    "from keras.models import Sequential, load_model\n",
    "from keras import backend as k\n",
    "from tensorflow.keras.preprocessing.image import ImageDataGenerator\n",
    "import requests"
   ]
  },
  {
   "cell_type": "code",
   "execution_count": 2,
   "id": "ba64473d-1963-499a-86b0-94ac21996218",
   "metadata": {
    "scrolled": true
   },
   "outputs": [],
   "source": [
    "# Create Flask app\n",
    "app = Flask(__name__\n",
    "            )"
   ]
  },
  {
   "cell_type": "code",
   "execution_count": 3,
   "id": "3af89de8-235b-45ef-8361-174957e7afa0",
   "metadata": {},
   "outputs": [
    {
     "name": "stderr",
     "output_type": "stream",
     "text": [
      "c:\\Users\\DELL\\AppData\\Local\\Programs\\Python\\Python312\\Lib\\site-packages\\keras\\src\\layers\\convolutional\\base_conv.py:99: UserWarning: Do not pass an `input_shape`/`input_dim` argument to a layer. When using Sequential models, prefer using an `Input(shape)` object as the first layer in the model instead.\n",
      "  super().__init__(\n",
      "c:\\Users\\DELL\\AppData\\Local\\Programs\\Python\\Python312\\Lib\\site-packages\\keras\\src\\optimizers\\base_optimizer.py:34: UserWarning: Argument `decay` is no longer supported and will be ignored.\n",
      "  warnings.warn(\n",
      "WARNING:absl:Compiled the loaded model, but the compiled metrics have yet to be built. `model.compile_metrics` will be empty until you train or evaluate the model.\n",
      "WARNING:absl:Error in loading the saved optimizer state. As a result, your model is starting with a freshly initialized optimizer.\n"
     ]
    },
    {
     "name": "stdout",
     "output_type": "stream",
     "text": [
      "Model loaded!\n"
     ]
    }
   ],
   "source": [
    "# Function to load the models\n",
    "def load_model_fn(path):\n",
    "    model = load_model(path)\n",
    "    print('Model loaded!')\n",
    "    return model\n",
    "\n",
    "load = load_model_fn('./model.h5') "
   ]
  },
  {
   "cell_type": "code",
   "execution_count": 4,
   "id": "92ff6a21-7e0e-4b44-9718-1564c4ff92f5",
   "metadata": {},
   "outputs": [],
   "source": [
    "classes = [\n",
    "    \"Adam Wahdan\",\n",
    "    \"Anahita Hashemzadeh\",\n",
    "    \"Aysel Hazem\",\n",
    "    \"Aysel Mohamed\",\n",
    "    \"Cailey Fleming\",\n",
    "    \"Chandler Riggs\",\n",
    "    \"Christina Ricci\",\n",
    "    \"Emma Watson\",\n",
    "    \"Finn Wolfhard\",\n",
    "    \"Hala Al Turk\",\n",
    "    \"haley joel osment\",\n",
    "    \"Isaac Hempstead-Wright\",\n",
    "    \"Jan Ramez\",\n",
    "    \"Jana Amr\",\n",
    "    \"Lareen Eloraby\",\n",
    "    \"Lina Ayman\",\n",
    "    \"Lolly Ali\",\n",
    "    \"Macaulay Culkin\",\n",
    "    \"Malak Mostafa\",\n",
    "    \"Maria Gaafar\",\n",
    "    \"Menna Arafa\",\n",
    "    \"Millie Bobby Brown\",\n",
    "    \"Mona Zaher\",\n",
    "    \"Nelly Elbatran\",\n",
    "    \"Polycarpus\",\n",
    "    \"Reem Abdelkader\",\n",
    "    \"Selim Mostafa\",\n",
    "    \"Thomas Brodie-Stangster\",\n",
    "    \"Tia Hamdy\",\n",
    "    \"Younis Koura\"\n",
    "]"
   ]
  },
  {
   "cell_type": "code",
   "execution_count": 5,
   "id": "d7343703",
   "metadata": {},
   "outputs": [],
   "source": [
    "images = {\n",
    "    \"Adam Wahdan\":\"https://res.cloudinary.com/dy8vniflb/image/upload/v1708722623/citizen/65d906f6c539b632795ad78d/image/znrmra5br9getnvsag3m.jpg\",\n",
    "    \"Anahita Hashemzadeh\":\"https://res.cloudinary.com/dsxnevf3i/image/upload/v1710686061/citizen/image/dy3h5z3ekbznzckrpqjy.png\",\n",
    "    \"Aysel Hazem\":\"https://res.cloudinary.com/dy8vniflb/image/upload/v1708722207/citizen/65d906f6c539b632795ad78d/image/ytmlekgqesh2gmqk0f0k.jpg\",\n",
    "    \"Aysel Mohamed\":\"https://res.cloudinary.com/dsxnevf3i/image/upload/v1711112583/citizen/image/pi05m2juezhjn8jhlxci.png\",\n",
    "    \"Cailey Fleming\":\"https://res.cloudinary.com/dy8vniflb/image/upload/v1708723002/citizen/65d906f6c539b632795ad78d/image/ge7o8msqejm8iayqteda.jpg\",\n",
    "    \"Chandler Riggs\":\"https://res.cloudinary.com/dy8vniflb/image/upload/v1708723198/citizen/65d906f6c539b632795ad78d/image/b6e9irhz72smmb84frhe.jpg\",\n",
    "    \"Christina Ricci\":\"https://res.cloudinary.com/dy8vniflb/image/upload/v1708723375/citizen/65d906f6c539b632795ad78d/image/qe4yc5qbell1flgaeccz.jpg\",\n",
    "    \"Emma Watson\":\"https://res.cloudinary.com/dy8vniflb/image/upload/v1711276558/foundReport/65e502ec65ce123a3d64233c/image/yd3slk6aghlwilyoyino.webp\",\n",
    "    \"Finn Wolfhard\":\"https://res.cloudinary.com/dy8vniflb/image/upload/v1708723735/citizen/65d906f6c539b632795ad78d/image/tqpzo701dff7bmflhssr.jpg\",\n",
    "    \"Hala Al Turk\":\"https://res.cloudinary.com/dy8vniflb/image/upload/v1708723910/citizen/65d906f6c539b632795ad78d/image/hcl7tvehoveog2ffeia1.jpg\",\n",
    "    \"haley joel osment\":\"https://res.cloudinary.com/dy8vniflb/image/upload/v1708724065/citizen/65d906f6c539b632795ad78d/image/ohwkmuqox6ynndrw7oxr.jpg\",\n",
    "    \"Isaac Hempstead-Wright\":\"https://res.cloudinary.com/dy8vniflb/image/upload/v1708817454/citizen/65da5df32bca04136066bf93/image/pjzp3qn0foyyodwwevo5.jpg\",\n",
    "    \"Jan Ramez\":\"https://res.cloudinary.com/dy8vniflb/image/upload/v1708813968/citizen/65da5df32bca04136066bf93/image/vm52jyilj1letnhflwhu.jpg\",\n",
    "    \"Jana Amr\":\"https://res.cloudinary.com/dy8vniflb/image/upload/v1708814802/citizen/65da5df32bca04136066bf93/image/opz5txujfj0zx6qfludw.jpg\",\n",
    "    \"Lareen Eloraby\":\"https://res.cloudinary.com/dy8vniflb/image/upload/v1708815336/citizen/65da5df32bca04136066bf93/image/ogs7ypenidg4yifev4l5.jpg\",\n",
    "    \"Lina Ayman\":\"https://res.cloudinary.com/dy8vniflb/image/upload/v1708815819/citizen/65da5df32bca04136066bf93/image/i9roydliqwcjfvjswlxm.jpg\",\n",
    "    \"Lolly Ali\":\"https://res.cloudinary.com/dy8vniflb/image/upload/v1708811753/citizen/65da5df32bca04136066bf93/image/mouiswejrzpoel3cq4si.jpg\",\n",
    "    \"Macaulay Culkin\":\"https://res.cloudinary.com/dy8vniflb/image/upload/v1708816683/citizen/65da5df32bca04136066bf93/image/rw3tcnvted5kbst8g5kp.jpg\",\n",
    "    \"Malak Mostafa\":\"https://res.cloudinary.com/dy8vniflb/image/upload/v1708813464/citizen/65da5df32bca04136066bf93/image/yapi6vezwnv3p4chnpo7.jpg\",\n",
    "    \"Maria Gaafar\":\"https://res.cloudinary.com/dy8vniflb/image/upload/v1708814252/citizen/65da5df32bca04136066bf93/image/hbu9igweaulk1frn1jtr.jpg\",\n",
    "    \"Menna Arafa\":\"https://res.cloudinary.com/dy8vniflb/image/upload/v1708727698/citizen/65d906f6c539b632795ad78d/image/czumh3wbvlaou3r6hlkv.jpg\",\n",
    "    \"Millie Bobby Brown\":\"https://res.cloudinary.com/dy8vniflb/image/upload/v1708729032/citizen/65d906f6c539b632795ad78d/image/ony40ywmflghv6adhuw2.jpg\",\n",
    "    \"Mona Zaher\":\"https://res.cloudinary.com/dy8vniflb/image/upload/v1708729332/citizen/65d906f6c539b632795ad78d/image/yoikxzytycyji3hl3bbx.png\",\n",
    "    \"Nelly Elbatran\":\"https://res.cloudinary.com/dy8vniflb/image/upload/v1708738185/citizen/65d906f6c539b632795ad78d/image/f2wgcrmzk9tr3ssg2ejd.png\",\n",
    "    \"Polycarpus\":\"https://res.cloudinary.com/dy8vniflb/image/upload/v1708738456/citizen/65d906f6c539b632795ad78d/image/txebko7jbw5bpyiokfos.png\",\n",
    "    \"Reem Abdelkader\":\"https://res.cloudinary.com/dy8vniflb/image/upload/v1708738767/citizen/65d906f6c539b632795ad78d/image/srghg8lxays4c3ucmo3l.pngvalue\",    \n",
    "    \"Selim Mostafa\":\"https://res.cloudinary.com/dy8vniflb/image/upload/v1708739138/citizen/65d906f6c539b632795ad78d/image/d4zkp4hwqrjgsygvghsd.png\",\n",
    "    \"Thomas Brodie-Stangster\":\"https://res.cloudinary.com/dy8vniflb/image/upload/v1708739434/citizen/65d906f6c539b632795ad78d/image/deqq6ck3m3sq1ogfierm.jpg\",\n",
    "    \"Tia Hamdy\":\"https://res.cloudinary.com/dy8vniflb/image/upload/v1708739842/citizen/65d906f6c539b632795ad78d/image/ka9i4q8av6uo9jhtjkvo.jpg\",\n",
    "    \"Younis Koura\":\"https://res.cloudinary.com/dy8vniflb/image/upload/v1708740140/citizen/65d906f6c539b632795ad78d/image/bxzyv8dmb2se5eud19pv.png\"\n",
    "}"
   ]
  },
  {
   "cell_type": "code",
   "execution_count": 6,
   "id": "e5fce665-81b8-4862-a08d-588c9d3d1f23",
   "metadata": {},
   "outputs": [],
   "source": [
    "# Function to preprocess the image\n",
    "def preprocess_image(image_path, target_size):\n",
    "    try:\n",
    "        # Load the image\n",
    "        image = Image.open(requests.get(image_path, stream=True).raw)\n",
    "        # Convert the image to RGB\n",
    "        rgb_image = image.convert(\"RGB\")\n",
    "\n",
    "        # Resize the RGB image\n",
    "        resized_image = rgb_image.resize(target_size)\n",
    "\n",
    "        # Convert the RGB image to a NumPy array\n",
    "        image_array = np.array(resized_image)\n",
    "\n",
    "        # Normalize the image by dividing pixel values by 255\n",
    "        mean_value = 0.5\n",
    "        std_value = 0.5\n",
    "        image_array = (image_array - mean_value) / std_value\n",
    "\n",
    "        # Add batch dimension\n",
    "        image_array = np.expand_dims(image_array, axis=0)\n",
    "\n",
    "        return image_array\n",
    "    except Exception as e:\n",
    "        print(f\"Error preprocessing image: {str(e)}\")\n",
    "        return None"
   ]
  },
  {
   "cell_type": "code",
   "execution_count": 7,
   "id": "04b2620d-d03d-4f01-9f4a-5cc64028fb3f",
   "metadata": {},
   "outputs": [
    {
     "data": {
      "text/plain": [
       "<flask_cors.extension.CORS at 0x1fc84040590>"
      ]
     },
     "execution_count": 7,
     "metadata": {},
     "output_type": "execute_result"
    }
   ],
   "source": [
    "from flask_cors import CORS\n",
    "# Create Flask app\n",
    "app = Flask(__name__)\n",
    "CORS(app)  # Enable CORS for all origins"
   ]
  },
  {
   "cell_type": "code",
   "execution_count": 8,
   "id": "282476c9-34ff-4811-939d-479ab858940e",
   "metadata": {},
   "outputs": [],
   "source": [
    "@app.route('/predictApi', methods=['POST'])\n",
    "def api():\n",
    "    try:\n",
    "        # Get the JSON data from the request\n",
    "        data = request.json\n",
    "\n",
    "        # Extract the image URL from the JSON data\n",
    "        imageUrl = data.get('imageUrl')\n",
    "\n",
    "        if not imageUrl:\n",
    "            return jsonify({\"error\": \"Image URL not provided.\"})\n",
    "\n",
    "        # Preprocess the image using the provided URL\n",
    "        image_arr = preprocess_image(imageUrl, target_size=(224, 224))\n",
    "\n",
    "        # Handle error if image preprocessing fails\n",
    "        if image_arr is None:\n",
    "            return jsonify({\"error\": \"Error processing image.\"})\n",
    "\n",
    "        # Make predictions using the loaded model\n",
    "        prediction = load.predict(image_arr)\n",
    "\n",
    "        # Get the predicted class label index and confidence\n",
    "        index_largest_value = np.argmax(prediction[0])\n",
    "        confidence = prediction[0][index_largest_value]\n",
    "\n",
    "        # Check if the confidence is below the threshold\n",
    "        threshold = 0.7  # Set your desired confidence threshold here\n",
    "        if confidence < threshold:\n",
    "            return jsonify({\"error\": \"Confidence below threshold.\"})\n",
    "\n",
    "        result = classes[index_largest_value]\n",
    "\n",
    "        # Check if the predicted class label is in the classes list\n",
    "        if result not in classes:\n",
    "            return jsonify({\"error\": \"Photo not found.\"})\n",
    "\n",
    "        # Return the prediction and confidence as JSON response\n",
    "        return jsonify({\"prediction\": result, \"confidence\": float(confidence), \"image\": images[result]})\n",
    "    except Exception as e:\n",
    "        # Return error message as JSON response\n",
    "        return jsonify({\"error\": str(e)})    "
   ]
  },
  {
   "cell_type": "code",
   "execution_count": 9,
   "id": "003ef4bf-94fc-4e5a-986f-9b75d080d167",
   "metadata": {},
   "outputs": [
    {
     "name": "stdout",
     "output_type": "stream",
     "text": [
      " * Serving Flask app '__main__'\n",
      " * Debug mode: off\n"
     ]
    },
    {
     "name": "stderr",
     "output_type": "stream",
     "text": [
      "INFO:werkzeug:\u001b[31m\u001b[1mWARNING: This is a development server. Do not use it in a production deployment. Use a production WSGI server instead.\u001b[0m\n",
      " * Running on http://127.0.0.1:5000\n",
      "INFO:werkzeug:\u001b[33mPress CTRL+C to quit\u001b[0m\n"
     ]
    },
    {
     "name": "stdout",
     "output_type": "stream",
     "text": [
      "\u001b[1m1/1\u001b[0m \u001b[32m━━━━━━━━━━━━━━━━━━━━\u001b[0m\u001b[37m\u001b[0m \u001b[1m1s\u001b[0m 597ms/step\n"
     ]
    },
    {
     "name": "stderr",
     "output_type": "stream",
     "text": [
      "INFO:werkzeug:127.0.0.1 - - [05/May/2024 00:37:50] \"POST /predictApi HTTP/1.1\" 200 -\n"
     ]
    },
    {
     "name": "stdout",
     "output_type": "stream",
     "text": [
      "\u001b[1m1/1\u001b[0m \u001b[32m━━━━━━━━━━━━━━━━━━━━\u001b[0m\u001b[37m\u001b[0m \u001b[1m0s\u001b[0m 42ms/step\n"
     ]
    },
    {
     "name": "stderr",
     "output_type": "stream",
     "text": [
      "INFO:werkzeug:127.0.0.1 - - [05/May/2024 00:37:58] \"POST /predictApi HTTP/1.1\" 200 -\n"
     ]
    },
    {
     "name": "stdout",
     "output_type": "stream",
     "text": [
      "\u001b[1m1/1\u001b[0m \u001b[32m━━━━━━━━━━━━━━━━━━━━\u001b[0m\u001b[37m\u001b[0m \u001b[1m0s\u001b[0m 36ms/step\n"
     ]
    },
    {
     "name": "stderr",
     "output_type": "stream",
     "text": [
      "INFO:werkzeug:127.0.0.1 - - [05/May/2024 00:40:37] \"POST /predictApi HTTP/1.1\" 200 -\n"
     ]
    },
    {
     "name": "stdout",
     "output_type": "stream",
     "text": [
      "\u001b[1m1/1\u001b[0m \u001b[32m━━━━━━━━━━━━━━━━━━━━\u001b[0m\u001b[37m\u001b[0m \u001b[1m0s\u001b[0m 41ms/step\n"
     ]
    },
    {
     "name": "stderr",
     "output_type": "stream",
     "text": [
      "INFO:werkzeug:127.0.0.1 - - [05/May/2024 00:40:47] \"POST /predictApi HTTP/1.1\" 200 -\n"
     ]
    },
    {
     "name": "stdout",
     "output_type": "stream",
     "text": [
      "\u001b[1m1/1\u001b[0m \u001b[32m━━━━━━━━━━━━━━━━━━━━\u001b[0m\u001b[37m\u001b[0m \u001b[1m0s\u001b[0m 70ms/step\n"
     ]
    },
    {
     "name": "stderr",
     "output_type": "stream",
     "text": [
      "INFO:werkzeug:127.0.0.1 - - [05/May/2024 00:48:42] \"POST /predictApi HTTP/1.1\" 200 -\n"
     ]
    }
   ],
   "source": [
    "if __name__ == \"__main__\":\n",
    "    # Run the Flask app\n",
    "    app.run()\n"
   ]
  }
 ],
 "metadata": {
  "kernelspec": {
   "display_name": "Python 3 (ipykernel)",
   "language": "python",
   "name": "python3"
  },
  "language_info": {
   "codemirror_mode": {
    "name": "ipython",
    "version": 3
   },
   "file_extension": ".py",
   "mimetype": "text/x-python",
   "name": "python",
   "nbconvert_exporter": "python",
   "pygments_lexer": "ipython3",
   "version": "3.12.2"
  }
 },
 "nbformat": 4,
 "nbformat_minor": 5
}
